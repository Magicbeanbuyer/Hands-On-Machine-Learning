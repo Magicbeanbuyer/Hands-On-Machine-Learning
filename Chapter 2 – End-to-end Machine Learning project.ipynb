{
 "cells": [
  {
   "cell_type": "markdown",
   "metadata": {},
   "source": [
    "# Get Data"
   ]
  },
  {
   "cell_type": "code",
   "execution_count": 2,
   "metadata": {},
   "outputs": [],
   "source": [
    "import os\n",
    "import tarfile\n",
    "from six.moves import urllib\n",
    "\n",
    "DOWNLOAD_ROOT = \"https://raw.githubusercontent.com/ageron/handson-ml/master/\"\n",
    "HOUSING_PATH = os.path.join(\"datasets\", \"housing\") # datasets\\\\housing\n",
    "HOUSING_URL = DOWNLOAD_ROOT + \"datasets/housing/housing.tgz\" # https://raw.githubusercontent.com/ageron/handson-ml/master/datasets/housing/housing.tgz\n",
    "\n",
    "def fetch_housing_data(housing_url=HOUSING_URL, housing_path=HOUSING_PATH):\n",
    "    if not os.path.isdir(housing_path):\n",
    "        os.makedirs(housing_path) # create a folder to where the file should be saved\n",
    "    tgz_path = os.path.join(housing_path, \"housing.tgz\") # datasets\\\\housing\\\\housing.tgz - the file path\n",
    "    urllib.request.urlretrieve(housing_url, tgz_path)  # download the file from housing_url to local tgz_path\n",
    "    housing_tgz = tarfile.open(tgz_path) \n",
    "    housing_tgz.extractall(path=housing_path)\n",
    "    housing_tgz.close()"
   ]
  },
  {
   "cell_type": "markdown",
   "metadata": {},
   "source": [
    "**os.path.isdir**\n",
    "\n",
    "Return True if path is an existing directory. \n",
    "\n",
    "**os.makedirs** \n",
    "\n",
    "Recursive directory creation function. Like mkdir(), but makes all intermediate-level directories needed to contain the leaf directory.\n",
    "\n",
    "**gzip**\n",
    "\n",
    "A file format and a software application used for file compression and decompression, the final compressed file usually has the extension .tar.gz or .tgz.\n",
    "\n",
    "**urllib.request.urlretrieve(url[, filename[, reporthook[, data]]])**\n",
    "\n",
    "Copy a network object denoted by a URL to a local file, if necessary. If the URL points to a local file, or a valid cached copy of the object exists, the object is not copied. Return a tuple (filename, headers) where filename is the local file name under which the object can be found, and headers is whatever the info() method of the object returned. The second argument, if present, specifies the file location to copy to (if absent, the location will be a tempfile with a generated name).\n",
    "\n",
    "**tarfile.open(name=None, mode='r', fileobj=None, bufsize=10240, **kwargs)**\n",
    "\n",
    "Return a TarFile object for the pathname *name*.\n",
    "\n",
    "**TarFile.close()**\n",
    "\n",
    "Close the TarFile. In write mode, two finishing zero blocks are appended to the archive.\n",
    "\n",
    "**TarFile.extractall(path=\".\", members=None, *, numeric_owner=False)**\n",
    "\n",
    "Extract all members from the archive to the current working directory or directory *path*. "
   ]
  },
  {
   "cell_type": "code",
   "execution_count": null,
   "metadata": {},
   "outputs": [],
   "source": []
  }
 ],
 "metadata": {
  "kernelspec": {
   "display_name": "Python 3",
   "language": "python",
   "name": "python3"
  },
  "language_info": {
   "codemirror_mode": {
    "name": "ipython",
    "version": 3
   },
   "file_extension": ".py",
   "mimetype": "text/x-python",
   "name": "python",
   "nbconvert_exporter": "python",
   "pygments_lexer": "ipython3",
   "version": "3.7.3"
  }
 },
 "nbformat": 4,
 "nbformat_minor": 2
}
