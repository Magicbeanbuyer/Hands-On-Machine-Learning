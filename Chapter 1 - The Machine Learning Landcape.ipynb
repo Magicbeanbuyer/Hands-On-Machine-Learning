{
 "cells": [
  {
   "cell_type": "markdown",
   "metadata": {},
   "source": [
    "# Tpyes of Machine Learning Systems"
   ]
  },
  {
   "cell_type": "markdown",
   "metadata": {},
   "source": [
    "## Instance-Based vs. Model-Based Learning\n",
    "model selection \n",
    "\n",
    "utility/fitness function\n",
    "\n",
    "cost function \n",
    "\n",
    "training the model: y = ax + b, find the best fiting a & b.\n",
    "\n",
    "A hyperparameter is a parameter of a learning algorithm (not of the model).\n",
    "\n",
    "Tuning hyperparameters is an important part of building a Machine Learning system."
   ]
  }
 ],
 "metadata": {
  "kernelspec": {
   "display_name": "Python 3",
   "language": "python",
   "name": "python3"
  },
  "language_info": {
   "codemirror_mode": {
    "name": "ipython",
    "version": 3
   },
   "file_extension": ".py",
   "mimetype": "text/x-python",
   "name": "python",
   "nbconvert_exporter": "python",
   "pygments_lexer": "ipython3",
   "version": "3.7.3"
  }
 },
 "nbformat": 4,
 "nbformat_minor": 2
}
